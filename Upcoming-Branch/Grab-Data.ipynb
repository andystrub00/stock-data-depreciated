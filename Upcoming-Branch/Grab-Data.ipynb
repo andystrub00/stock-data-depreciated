{
 "cells": [
  {
   "cell_type": "code",
   "execution_count": 10,
   "metadata": {},
   "outputs": [],
   "source": [
    "import yfinance as yf\n",
    "import pandas as pd\n",
    "from tqdm.notebook import tqdm\n",
    "from datetime import datetime\n",
    "import csv"
   ]
  },
  {
   "cell_type": "code",
   "execution_count": 2,
   "metadata": {},
   "outputs": [],
   "source": [
    "start_date = \"2000-01-01\"\n",
    "end_date   = \"2022-06-01\""
   ]
  },
  {
   "cell_type": "code",
   "execution_count": 14,
   "metadata": {},
   "outputs": [],
   "source": [
    "current_500 = pd.read_csv(r\"Current-S&P-500.csv\").fillna(0)\n",
    "\n",
    "\n",
    "#Grab all tickers from each GICS Sub-Industry and group them, along with a list of the GICS Sub-Indistry labels\n",
    "\n",
    "sub_ind_ticks = []\n",
    "current_list = []\n",
    "sub_ind_labels = []\n",
    "\n",
    "for index, row in current_500.iterrows():\n",
    "    if row[\"Shared GICS Sub-Ind.\"] == 0:\n",
    "        current_list.append(row[\"Symbol\"])\n",
    "    else:\n",
    "        current_list.append(row[\"Symbol\"])\n",
    "        sub_ind_ticks.append(current_list)\n",
    "        sub_ind_labels.append(row[\"Shared GICS Sub-Ind.\"])\n",
    "        current_list = []\n",
    "        \n",
    "'''\n",
    "Index 69 -> Aero & Defense\n",
    "Index 71 -> Air Frieght & Logistics\n",
    "Index 72 -> Airlines\n",
    "''';"
   ]
  },
  {
   "cell_type": "code",
   "execution_count": null,
   "metadata": {},
   "outputs": [],
   "source": []
  }
 ],
 "metadata": {
  "interpreter": {
   "hash": "7dacabb185698a0298af7753e08b1e314cd101a42395bd97508a75b5af46e28a"
  },
  "kernelspec": {
   "display_name": "Python 3.8.2 ('base')",
   "language": "python",
   "name": "python3"
  },
  "language_info": {
   "codemirror_mode": {
    "name": "ipython",
    "version": 3
   },
   "file_extension": ".py",
   "mimetype": "text/x-python",
   "name": "python",
   "nbconvert_exporter": "python",
   "pygments_lexer": "ipython3",
   "version": "3.8.2"
  },
  "orig_nbformat": 4
 },
 "nbformat": 4,
 "nbformat_minor": 2
}
