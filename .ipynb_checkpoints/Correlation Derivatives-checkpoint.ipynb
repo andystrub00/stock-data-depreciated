{
 "cells": [
  {
   "cell_type": "code",
   "execution_count": 1,
   "metadata": {
    "datalore": {
     "hide_input_from_viewers": false,
     "hide_output_from_viewers": false,
     "type": "CODE"
    }
   },
   "outputs": [],
   "source": [
    "import yfinance as yf\n",
    "import matplotlib.pyplot as plt\n",
    "import numpy as np\n",
    "import pandas as pd\n",
    "import csv\n",
    "#import datetime\n",
    "from datetime import datetime\n",
    "import matplotlib.ticker as mtick\n",
    "import matplotlib.dates as mdates\n",
    "from tqdm.notebook import tqdm\n",
    "import os\n",
    "\n",
    "\n",
    "start_date = \"2022-01-01\"\n",
    "end_date = \"2022-05-26\""
   ]
  },
  {
   "cell_type": "markdown",
   "metadata": {
    "datalore": {
     "hide_input_from_viewers": false,
     "hide_output_from_viewers": false,
     "type": "MD"
    }
   },
   "source": [
    "## Defense\n",
    "RTX - Raytheon Technologies Corp.\\\n",
    "LMT - Lockheed Martin Corp.\\\n",
    "BA  - Boeing Co.\\\n",
    "NOC - Northrop Grumman Corp.\\\n",
    "GD - General Dynamics Corp.\n",
    "\n",
    "## Airlines\n",
    "LUV - Southwest Airlines\\\n",
    "DAL - Delta Air Lines\\\n",
    "UAL - United Airlines\\\n",
    "AAL - American Airlines\n",
    "\n",
    "## Commodities\n",
    "CL=F - Crude Oil June 22 Futures Contract\n",
    "\n",
    "## Market Indexes\n",
    "GSPC - S&P 500\\\n",
    "DJI - Dow Jones Industrial Average\\\n",
    "IXIC - NASDAQ Composite\n",
    "\n",
    "https://www.ishares.com/us/products/239502/ishares-us-aerospace-defense-etf\n"
   ]
  },
  {
   "cell_type": "code",
   "execution_count": 2,
   "metadata": {
    "datalore": {
     "hide_input_from_viewers": false,
     "hide_output_from_viewers": false,
     "type": "CODE"
    }
   },
   "outputs": [],
   "source": [
    "defense_ticks = [\"RTX\", \"LMT\", \"BA\", \"NOC\", \"GD\"]\n",
    "airline_ticks = [\"LUV\", \"DAL\", \"UAL\", \"AAL\"]\n",
    "market_ticks = [\"^GSPC\", \"^DJI\", \"^IXIC\"]\n",
    "market_labels = [\"S&P 500\", \"DJIA\", \"NASDAQ Comp.\"]\n",
    "commodities_ticks = [\"CL=F\"]\n",
    "commodities_labels = [\"Crude - June\"]"
   ]
  },
  {
   "cell_type": "code",
   "execution_count": 3,
   "metadata": {
    "datalore": {
     "hide_input_from_viewers": false,
     "hide_output_from_viewers": false,
     "type": "CODE"
    }
   },
   "outputs": [],
   "source": [
    "def normalize_price(df):\n",
    "    min_p = df.min()\n",
    "    max_p = df.max()\n",
    "    x = df\n",
    "    y = (x - min_p) / (max_p - min_p)\n",
    "    return y\n",
    "\n",
    "def get_data(ticker_str_list, start_date = \"2000-01-01\", end_date = \"2022-05-01\"):\n",
    "    tickers = [yf.Ticker(name) for name in ticker_str_list]\n",
    "    securities = [ticker.history(start = start_date, end = end_date) for ticker in tickers]\n",
    "    opens = [normalize_price(securs[\"Open\"]) for securs in securities]\n",
    "    closes = [normalize_price(securs[\"Close\"]) for securs in securities]\n",
    "    highs = [normalize_price(securs[\"High\"]) for securs in securities]\n",
    "    lows = [normalize_price(securs[\"Low\"]) for securs in securities]\n",
    "    volumes = [normalize_price(securs[\"Volume\"]) for securs in securities]\n",
    "\n",
    "    return opens, closes, highs, lows, volumes\n",
    "\n",
    "def get_single_data(ticker_str, start_date = \"2000-01-01\", end_date = \"2022-05-01\"):\n",
    "    ticker = yf.Ticker(ticker_str)\n",
    "    df = ticker.history(start = start_date, end = end_date)\n",
    "    \n",
    "    return(df)\n",
    "\n",
    "def get_unnormed_data(ticker_str_list, start_date = \"2000-01-01\", end_date = \"2022-05-01\"):\n",
    "    tickers = [yf.Ticker(name) for name in ticker_str_list]\n",
    "    securities = [ticker.history(start = start_date, end = end_date) for ticker in tickers]\n",
    "    opens = [securs[\"Open\"] for securs in securities]\n",
    "    closes = [securs[\"Close\"] for securs in securities]\n",
    "    highs = [securs[\"High\"] for securs in securities]\n",
    "    lows = [securs[\"Low\"] for securs in securities]\n",
    "    volumes = [securs[\"Volume\"] for securs in securities]\n",
    "\n",
    "    return opens, closes, highs, lows, volumes\n",
    "\n",
    "def get_mean(data):\n",
    "    n = len(data[0])\n",
    "    tot = data[0][0]\n",
    "    for i in range(1,n):\n",
    "        tot+= data[0][i]\n",
    "    return tot/n"
   ]
  },
  {
   "cell_type": "code",
   "execution_count": 4,
   "metadata": {
    "datalore": {
     "hide_input_from_viewers": false,
     "hide_output_from_viewers": false,
     "type": "CODE"
    }
   },
   "outputs": [],
   "source": [
    "def get_unnormed_opens(ticker_str_list, start_date = \"2000-01-01\", end_date = \"2022-05-01\"):\n",
    "    tickers = [yf.Ticker(name) for name in ticker_str_list]\n",
    "    securities = [ticker.history(start = start_date, end = end_date) for ticker in tickers]\n",
    "    opens = [securs[\"Open\"] for securs in securities]\n",
    "\n",
    "    return opens"
   ]
  },
  {
   "cell_type": "code",
   "execution_count": 5,
   "metadata": {
    "datalore": {
     "hide_input_from_viewers": false,
     "hide_output_from_viewers": false,
     "type": "CODE"
    }
   },
   "outputs": [],
   "source": [
    "sap = pd.read_csv(r'cursp500v2.csv')\n",
    "sap = sap.fillna(0)"
   ]
  },
  {
   "cell_type": "code",
   "execution_count": 6,
   "metadata": {
    "datalore": {
     "hide_input_from_viewers": false,
     "hide_output_from_viewers": false,
     "type": "CODE"
    }
   },
   "outputs": [],
   "source": [
    "'''\n",
    "Grab all tickers from each GICS Sub-Industry and group them, along with a list of the GICS Sub-Indistry labels\n",
    "'''\n",
    "\n",
    "sub_ind_ticks = []\n",
    "current_list = []\n",
    "sub_ind_labels = []\n",
    "for index, row in sap.iterrows():\n",
    "    if row[\"Shared GICS Sub-Ind.\"] == 0:\n",
    "        current_list.append(row[\"Symbol\"])\n",
    "    else:\n",
    "        current_list.append(row[\"Symbol\"])\n",
    "        sub_ind_ticks.append(current_list)\n",
    "        current_list = []\n",
    "        sub_ind_labels.append(row[\"Shared GICS Sub-Ind.\"])\n",
    "\n",
    "'''\n",
    "Index 69 -> Aero & Defense\n",
    "Index 71 -> Air Frieght & Logistics\n",
    "Index 72 -> Airlines\n",
    "''';"
   ]
  },
  {
   "cell_type": "code",
   "execution_count": null,
   "metadata": {},
   "outputs": [],
   "source": []
  },
  {
   "cell_type": "markdown",
   "metadata": {
    "datalore": {
     "hide_input_from_viewers": false,
     "hide_output_from_viewers": false,
     "type": "MD"
    }
   },
   "source": [
    "# PLOTTING SUB_INDUSTRIES"
   ]
  },
  {
   "cell_type": "code",
   "execution_count": 7,
   "metadata": {
    "datalore": {
     "hide_input_from_viewers": false,
     "hide_output_from_viewers": false,
     "type": "CODE"
    }
   },
   "outputs": [
    {
     "data": {
      "application/vnd.jupyter.widget-view+json": {
       "model_id": "744f50aedca3481fb84ae0803beee759",
       "version_major": 2,
       "version_minor": 0
      },
      "text/plain": [
       "HBox(children=(HTML(value=''), FloatProgress(value=0.0, max=123.0), HTML(value='')))"
      ]
     },
     "metadata": {},
     "output_type": "display_data"
    },
    {
     "name": "stdout",
     "output_type": "stream",
     "text": [
      "\n"
     ]
    },
    {
     "data": {
      "application/vnd.jupyter.widget-view+json": {
       "model_id": "4c5084aee0ac43f588fc7ad6b5a6fb82",
       "version_major": 2,
       "version_minor": 0
      },
      "text/plain": [
       "HBox(children=(HTML(value=''), FloatProgress(value=0.0, max=123.0), HTML(value='')))"
      ]
     },
     "metadata": {},
     "output_type": "display_data"
    },
    {
     "name": "stdout",
     "output_type": "stream",
     "text": [
      "\n"
     ]
    }
   ],
   "source": [
    "sub_ind_data_lists = []\n",
    "\n",
    "for sub_ind in tqdm(sub_ind_ticks):\n",
    "    sub_ind_data_lists.append(get_unnormed_opens(sub_ind, start_date=start_date, end_date=end_date))\n",
    "\n",
    "\n",
    "avg_sub_ind = []\n",
    "for sub_d in tqdm(sub_ind_data_lists):\n",
    "    avg_sub_ind.append(get_mean(sub_d))"
   ]
  },
  {
   "cell_type": "code",
   "execution_count": 63,
   "metadata": {},
   "outputs": [
    {
     "data": {
      "text/plain": [
       "([Date\n",
       "  2022-01-03    713.104995\n",
       "  2022-01-04    707.606799\n",
       "  2022-01-05    717.456077\n",
       "  2022-01-06    713.320199\n",
       "  2022-01-07    715.644282\n",
       "                   ...    \n",
       "  2022-05-19    578.110001\n",
       "  2022-05-20    578.270012\n",
       "  2022-05-23    583.450012\n",
       "  2022-05-24    584.359985\n",
       "  2022-05-25    584.379997\n",
       "  Name: Open, Length: 100, dtype: float64,\n",
       "  Date\n",
       "  2022-01-03    134.360001\n",
       "  2022-01-04    130.630005\n",
       "  2022-01-05    129.990005\n",
       "  2022-01-06    129.949997\n",
       "  2022-01-07    129.750000\n",
       "                   ...    \n",
       "  2022-05-19    104.559998\n",
       "  2022-05-20    104.730003\n",
       "  2022-05-23    106.160004\n",
       "  2022-05-24    104.949997\n",
       "  2022-05-25    105.120003\n",
       "  Name: Open, Length: 100, dtype: float64,\n",
       "  Date\n",
       "  2022-01-03    258.919562\n",
       "  2022-01-04    258.770084\n",
       "  2022-01-05    264.101938\n",
       "  2022-01-06    261.102150\n",
       "  2022-01-07    261.799785\n",
       "                   ...    \n",
       "  2022-05-19    201.089996\n",
       "  2022-05-20    201.960007\n",
       "  2022-05-23    202.190002\n",
       "  2022-05-24    202.649994\n",
       "  2022-05-25    202.729996\n",
       "  Name: Open, Length: 100, dtype: float64,\n",
       "  Date\n",
       "  2022-01-03    211.288448\n",
       "  2022-01-04    211.042360\n",
       "  2022-01-05    213.404785\n",
       "  2022-01-06    211.692026\n",
       "  2022-01-07    213.946172\n",
       "                   ...    \n",
       "  2022-05-19    170.160004\n",
       "  2022-05-20    169.190002\n",
       "  2022-05-23    172.690002\n",
       "  2022-05-24    172.789993\n",
       "  2022-05-25    171.869995\n",
       "  Name: Open, Length: 100, dtype: float64],\n",
       " [Date\n",
       "  2022-01-03    107.323502\n",
       "  2022-01-04    109.790245\n",
       "  2022-01-05    109.074104\n",
       "  2022-01-06    110.357201\n",
       "  2022-01-07    107.850670\n",
       "                   ...    \n",
       "  2022-05-19    101.190002\n",
       "  2022-05-20    101.919998\n",
       "  2022-05-23    104.440002\n",
       "  2022-05-24    104.790001\n",
       "  2022-05-25    106.180000\n",
       "  Name: Close, Length: 100, dtype: float64,\n",
       "  Date\n",
       "  2022-01-03    130.789993\n",
       "  2022-01-04    130.059998\n",
       "  2022-01-05    129.669998\n",
       "  2022-01-06    129.949997\n",
       "  2022-01-07    128.110001\n",
       "                   ...    \n",
       "  2022-05-19    103.690002\n",
       "  2022-05-20    105.440002\n",
       "  2022-05-23    105.620003\n",
       "  2022-05-24    105.290001\n",
       "  2022-05-25    106.129997\n",
       "  Name: Close, Length: 100, dtype: float64,\n",
       "  Date\n",
       "  2022-01-03    257.673798\n",
       "  2022-01-04    264.012268\n",
       "  2022-01-05    261.241669\n",
       "  2022-01-06    262.298096\n",
       "  2022-01-07    263.095367\n",
       "                   ...    \n",
       "  2022-05-19    199.050003\n",
       "  2022-05-20    200.899994\n",
       "  2022-05-23    204.690002\n",
       "  2022-05-24    205.250000\n",
       "  2022-05-25    204.309998\n",
       "  Name: Close, Length: 100, dtype: float64,\n",
       "  Date\n",
       "  2022-01-03    210.156464\n",
       "  2022-01-04    213.887100\n",
       "  2022-01-05    211.199860\n",
       "  2022-01-06    213.247284\n",
       "  2022-01-07    214.743484\n",
       "                   ...    \n",
       "  2022-05-19    167.389999\n",
       "  2022-05-20    171.039993\n",
       "  2022-05-23    174.389999\n",
       "  2022-05-24    174.110001\n",
       "  2022-05-25    173.860001\n",
       "  Name: Close, Length: 100, dtype: float64],\n",
       " [Date\n",
       "  2022-01-03    109.909609\n",
       "  2022-01-04    110.337309\n",
       "  2022-01-05    111.391650\n",
       "  2022-01-06    111.550794\n",
       "  2022-01-07    110.148325\n",
       "                   ...    \n",
       "  2022-05-19    102.699997\n",
       "  2022-05-20    104.779999\n",
       "  2022-05-23    104.839996\n",
       "  2022-05-24    105.309998\n",
       "  2022-05-25    106.900002\n",
       "  Name: High, Length: 100, dtype: float64,\n",
       "  Date\n",
       "  2022-01-03    134.960007\n",
       "  2022-01-04    131.910004\n",
       "  2022-01-05    131.479996\n",
       "  2022-01-06    130.949997\n",
       "  2022-01-07    130.889999\n",
       "                   ...    \n",
       "  2022-05-19    105.989998\n",
       "  2022-05-20    105.550003\n",
       "  2022-05-23    106.510002\n",
       "  2022-05-24    105.879997\n",
       "  2022-05-25    107.400002\n",
       "  Name: High, Length: 100, dtype: float64,\n",
       "  Date\n",
       "  2022-01-03    260.803171\n",
       "  2022-01-04    265.038776\n",
       "  2022-01-05    265.885880\n",
       "  2022-01-06    264.111935\n",
       "  2022-01-07    265.706484\n",
       "                   ...    \n",
       "  2022-05-19    203.169998\n",
       "  2022-05-20    201.960007\n",
       "  2022-05-23    206.970001\n",
       "  2022-05-24    206.000000\n",
       "  2022-05-25    205.449997\n",
       "  Name: High, Length: 100, dtype: float64,\n",
       "  Date\n",
       "  2022-01-03    212.272787\n",
       "  2022-01-04    215.235655\n",
       "  2022-01-05    214.566299\n",
       "  2022-01-06    213.729616\n",
       "  2022-01-07    216.013276\n",
       "                   ...    \n",
       "  2022-05-19    171.210007\n",
       "  2022-05-20    171.210007\n",
       "  2022-05-23    174.660004\n",
       "  2022-05-24    174.729996\n",
       "  2022-05-25    175.059998\n",
       "  Name: High, Length: 100, dtype: float64],\n",
       " [Date\n",
       "  2022-01-03    106.726709\n",
       "  2022-01-04    106.587456\n",
       "  2022-01-05    108.914956\n",
       "  2022-01-06    108.278371\n",
       "  2022-01-07    107.403077\n",
       "                   ...    \n",
       "  2022-05-19     99.529999\n",
       "  2022-05-20    100.730003\n",
       "  2022-05-23    101.940002\n",
       "  2022-05-24    102.830002\n",
       "  2022-05-25    104.370003\n",
       "  Name: Low, Length: 100, dtype: float64,\n",
       "  Date\n",
       "  2022-01-03    129.470001\n",
       "  2022-01-04    128.759995\n",
       "  2022-01-05    128.660004\n",
       "  2022-01-06    127.849998\n",
       "  2022-01-07    127.260002\n",
       "                   ...    \n",
       "  2022-05-19    102.080002\n",
       "  2022-05-20    102.570000\n",
       "  2022-05-23    104.639999\n",
       "  2022-05-24    102.980003\n",
       "  2022-05-25    104.080002\n",
       "  Name: Low, Length: 100, dtype: float64,\n",
       "  Date\n",
       "  2022-01-03    256.089190\n",
       "  2022-01-04    258.431239\n",
       "  2022-01-05    260.972564\n",
       "  2022-01-06    259.248468\n",
       "  2022-01-07    261.151994\n",
       "                   ...    \n",
       "  2022-05-19    195.539993\n",
       "  2022-05-20    195.429993\n",
       "  2022-05-23    200.639999\n",
       "  2022-05-24    197.279999\n",
       "  2022-05-25    198.820007\n",
       "  Name: Low, Length: 100, dtype: float64,\n",
       "  Date\n",
       "  2022-01-03    207.567646\n",
       "  2022-01-04    210.254900\n",
       "  2022-01-05    210.865188\n",
       "  2022-01-06    209.989123\n",
       "  2022-01-07    211.810142\n",
       "                   ...    \n",
       "  2022-05-19    165.339996\n",
       "  2022-05-20    166.559998\n",
       "  2022-05-23    171.449997\n",
       "  2022-05-24    170.369995\n",
       "  2022-05-25    171.110001\n",
       "  Name: Low, Length: 100, dtype: float64],\n",
       " [Date\n",
       "  2022-01-03    1383200\n",
       "  2022-01-04    1409400\n",
       "  2022-01-05    1600700\n",
       "  2022-01-06    1062300\n",
       "  2022-01-07    1321400\n",
       "                 ...   \n",
       "  2022-05-19    1348000\n",
       "  2022-05-20    1533100\n",
       "  2022-05-23     746300\n",
       "  2022-05-24    1420300\n",
       "  2022-05-25    1004400\n",
       "  Name: Volume, Length: 100, dtype: int64,\n",
       "  Date\n",
       "  2022-01-03    1043400\n",
       "  2022-01-04    1235300\n",
       "  2022-01-05    1451100\n",
       "  2022-01-06    1022800\n",
       "  2022-01-07     985100\n",
       "                 ...   \n",
       "  2022-05-19    1998800\n",
       "  2022-05-20    1402300\n",
       "  2022-05-23    1171800\n",
       "  2022-05-24     848800\n",
       "  2022-05-25    1257700\n",
       "  Name: Volume, Length: 100, dtype: int64,\n",
       "  Date\n",
       "  2022-01-03    1752400\n",
       "  2022-01-04    2586600\n",
       "  2022-01-05    2437600\n",
       "  2022-01-06    1857800\n",
       "  2022-01-07    1646000\n",
       "                 ...   \n",
       "  2022-05-19    2598700\n",
       "  2022-05-20    2253600\n",
       "  2022-05-23    1696200\n",
       "  2022-05-24    1929700\n",
       "  2022-05-25    2197300\n",
       "  Name: Volume, Length: 100, dtype: int64,\n",
       "  Date\n",
       "  2022-01-03    2319600\n",
       "  2022-01-04    2741200\n",
       "  2022-01-05    2710800\n",
       "  2022-01-06    2102200\n",
       "  2022-01-07    3014000\n",
       "                 ...   \n",
       "  2022-05-19    4382900\n",
       "  2022-05-20    3482500\n",
       "  2022-05-23    2837700\n",
       "  2022-05-24    2865100\n",
       "  2022-05-25    3370100\n",
       "  Name: Volume, Length: 100, dtype: int64])"
      ]
     },
     "execution_count": 63,
     "metadata": {},
     "output_type": "execute_result"
    }
   ],
   "source": [
    "sub_ind_data_lists[71]"
   ]
  },
  {
   "cell_type": "code",
   "execution_count": 8,
   "metadata": {
    "datalore": {
     "hide_input_from_viewers": false,
     "hide_output_from_viewers": false,
     "type": "CODE"
    }
   },
   "outputs": [],
   "source": [
    "'''\n",
    "INDICIES\n",
    "List of Tickers for Correlations:\n",
    "---------------------------------\n",
    "S&P 500\n",
    "\"^GSPC\"\n",
    "\n",
    "Dow Jones Industrial Average\n",
    "\"^DJI\"\n",
    "\n",
    "NASDAQ Composite\n",
    "\"^IXIC\"\n",
    "\n",
    "Russel 2000\n",
    "\"^RUT\"\n",
    "''';"
   ]
  },
  {
   "cell_type": "code",
   "execution_count": 9,
   "metadata": {
    "datalore": {
     "hide_input_from_viewers": false,
     "hide_output_from_viewers": false,
     "type": "CODE"
    }
   },
   "outputs": [],
   "source": [
    "'''\n",
    "COMMODITIES\n",
    "List of Tickers for Correlations:\n",
    "---------------------------------\n",
    "June 22 Crude Oil Futures Contract\n",
    "\"CL=F\"\n",
    "\n",
    "June 22 Gold Futures Contact\n",
    "\"GC=F\"\n",
    "\n",
    "June 22 Silver Futures Contract\n",
    "\"SI=F\"\n",
    "\n",
    "Euro-USD \n",
    "\"EURUSD=X\"\n",
    "\n",
    "US Treasury 10 Year Bond\n",
    "\"^TNX\"\n",
    "\n",
    "CMC Crypto 200 Index\n",
    "\"^CMC200\"\n",
    "''';"
   ]
  },
  {
   "cell_type": "code",
   "execution_count": 10,
   "metadata": {
    "datalore": {
     "hide_input_from_viewers": false,
     "hide_output_from_viewers": false,
     "type": "CODE"
    }
   },
   "outputs": [],
   "source": [
    "ctlist = [\"^TNX\", \"CL=F\", \"^CMC200\", \"^DJI\", \"EURUSD=X\", \"GC=F\", \"^IXIC\", \"^RUT\", \"^GSPC\", \"SI=F\"]\n",
    "cllist = [\"Bonds\", \"Crude\", \"Crypto\", \"DJIA\", \"EuroUSD\", \"Gold\", \"NASDAQ\", \"Russell2000\", \"S&P500\", \"Silver\"]\n",
    "\n",
    "\n",
    "\n",
    "\n",
    "now = datetime.now()\n",
    "dt_string = now.strftime(\"%d/%m/%Y %H:%M:%S\")\n",
    "direc_string = now.strftime(\"%d-%m-%Y_%H-%M-%S\")\n",
    "os.makedirs(\"CorrelationCSVs/{}\".format(direc_string))\n",
    "\n",
    "for i in range(len(ctlist)):\n",
    "    correlation_ticks = [ctlist[i]]\n",
    "    correlation_from = cllist[i]\n",
    "    corrdata = get_data(correlation_ticks, start_date=start_date, end_date=end_date)\n",
    "    avg_corr = get_mean(corrdata)\n",
    "    csv_title = \"CorrelationCSVs/{}/{}_to_sp500_sub_industries_correlations.csv\".format(direc_string, correlation_from)\n",
    "\n",
    "    \n",
    "\n",
    "\n",
    "    with open(csv_title, 'w') as f:\n",
    "        writer = csv.writer(f)\n",
    "        writer.writerow([correlation_from,\"\",\"\", \"Data Pulled @\", dt_string,\"\", \"Price Date Range:\", start_date, end_date])\n",
    "        for j in range(len(avg_sub_ind)):\n",
    "            writer.writerow([sub_ind_labels[j],avg_corr.corr(avg_sub_ind[j])])"
   ]
  },
  {
   "cell_type": "code",
   "execution_count": 16,
   "metadata": {},
   "outputs": [
    {
     "name": "stdout",
     "output_type": "stream",
     "text": [
      "['BA', 'GD', 'HWM', 'HII', 'LHX', 'LMT', 'NOC', 'RTX', 'TDY', 'TXT', 'TDG'] \n",
      " ['CHRW', 'EXPD', 'FDX', 'UPS'] \n",
      " ['ALK', 'AAL', 'DAL', 'LUV', 'UAL']\n"
     ]
    }
   ],
   "source": [
    "print(sub_ind_ticks[69],\"\\n\", sub_ind_ticks[71],\"\\n\", sub_ind_ticks[72])"
   ]
  },
  {
   "cell_type": "code",
   "execution_count": 58,
   "metadata": {},
   "outputs": [
    {
     "data": {
      "text/plain": [
       "Date\n",
       "2022-01-03    178.276249\n",
       "2022-01-04    176.901700\n",
       "2022-01-05    179.364019\n",
       "2022-01-06    178.330050\n",
       "2022-01-07    178.911071\n",
       "                 ...    \n",
       "2022-05-19    144.527500\n",
       "2022-05-20    144.567503\n",
       "2022-05-23    145.862503\n",
       "2022-05-24    146.089996\n",
       "2022-05-25    146.094999\n",
       "Name: Open, Length: 100, dtype: float64"
      ]
     },
     "execution_count": 58,
     "metadata": {},
     "output_type": "execute_result"
    }
   ],
   "source": [
    "avg_sub_ind[71]"
   ]
  },
  {
   "cell_type": "code",
   "execution_count": 59,
   "metadata": {},
   "outputs": [
    {
     "data": {
      "text/plain": [
       "-0.07316866345310202"
      ]
     },
     "execution_count": 59,
     "metadata": {},
     "output_type": "execute_result"
    }
   ],
   "source": [
    "avg_corr.corr(avg_sub_ind[71])"
   ]
  },
  {
   "cell_type": "code",
   "execution_count": 60,
   "metadata": {},
   "outputs": [],
   "source": [
    "corr_nums = []\n",
    "for i in range(len(avg_sub_ind[71])):\n",
    "    n = len(avg_sub_ind) - i\n",
    "    corr_nums.append(avg_corr[0:n].corr(avg_sub_ind[71][0:n]))"
   ]
  },
  {
   "cell_type": "code",
   "execution_count": 61,
   "metadata": {},
   "outputs": [
    {
     "name": "stdout",
     "output_type": "stream",
     "text": [
      "[-0.07316866345310202, -0.07316866345310202, -0.07316866345310202, -0.07316866345310202, -0.07316866345310202, -0.07316866345310202, -0.07316866345310202, -0.07316866345310202, -0.07316866345310202, -0.07316866345310202, -0.07316866345310202, -0.07316866345310202, -0.07316866345310202, -0.07316866345310202, -0.07316866345310202, -0.07316866345310202, -0.07316866345310202, -0.07316866345310202, -0.07316866345310202, -0.07316866345310202, -0.07316866345310202, -0.07316866345310202, -0.07316866345310202, -0.07316866345310202, -0.09376499491388998, -0.11342848097628525, -0.1373212616621375, -0.1676721883033692, -0.20403534192280368, -0.2161764743707106, -0.23095828067896257, -0.2591891394971536, -0.2974611778415243, -0.33392121844621636, -0.36684443748423695, -0.39107865105651574, -0.4228696076261181, -0.45361192277095674, -0.46810601871770063, -0.5025415134375141, -0.5440261817395642, -0.5868615063341972, -0.607391753720448, -0.6307096539682574, -0.66328700851999, -0.6868472535594765, -0.7114041861416417, -0.7156508025736443, -0.7125925516278722, -0.7098821287084255, -0.7001061209974725, -0.6884443393018318, -0.6800041175955103, -0.6713776523222889, -0.6675587046602126, -0.6594783336912645, -0.6634168638049913, -0.6738091558125155, -0.6851269527246339, -0.6869047708303464, -0.6898849142605052, -0.6916791757164702, -0.6973692226246813, -0.7114215705019598, -0.7144356268137857, -0.7182899563592178, -0.7267173513121823, -0.7284033040629786, -0.7315556686700427, -0.7363747903676571, -0.7376645987489922, -0.7430644763254434, -0.7422435330036188, -0.7382860097048154, -0.7338532043463437, -0.7235443345630246, -0.7213842773338361, -0.7085139932283288, -0.7111004915745313, -0.6862072372680982, -0.6781142864584665, -0.6690162095356402, -0.6728568443469174, -0.6573482841948152, -0.6433073419829975, -0.6202504481682471, -0.599375115423976, -0.5074703081147836, -0.4525872040702635, -0.40437483709827654, -0.36116498147353, -0.32364159621319144, -0.30350238187341916, -0.32054600659055066, -0.2663049550227381, -0.2725369721999377, -0.25679419186448865, -0.25162176165019134, -0.25296915360920064, -0.2637931008688987]\n"
     ]
    }
   ],
   "source": [
    "print(corr_nums)"
   ]
  },
  {
   "cell_type": "code",
   "execution_count": 62,
   "metadata": {},
   "outputs": [
    {
     "data": {
      "text/plain": [
       "[<matplotlib.lines.Line2D at 0x7fe5fcd65b80>]"
      ]
     },
     "execution_count": 62,
     "metadata": {},
     "output_type": "execute_result"
    },
    {
     "data": {
      "image/png": "[encoded data removed]",
      "text/plain": [
       "<Figure size 432x288 with 1 Axes>"
      ]
     },
     "metadata": {
      "needs_background": "light"
     },
     "output_type": "display_data"
    }
   ],
   "source": [
    "plt.plot(corr_nums)"
   ]
  },
  {
   "cell_type": "code",
   "execution_count": null,
   "metadata": {},
   "outputs": [],
   "source": []
  }
 ],
 "metadata": {
  "datalore": {
   "base_environment": "default",
   "computation_mode": "JUPYTER",
   "package_manager": "pip",
   "packages": [
    {
     "name": "yfinance",
     "source": "PIP",
     "version": "0.1.70"
    }
   ],
   "version": 1
  },
  "interpreter": {
   "hash": "31f2aee4e71d21fbe5cf8b01ff0e069b9275f58929596ceb00d14d90e3e16cd6"
  },
  "kernelspec": {
   "display_name": "Python 3",
   "language": "python",
   "name": "python3"
  },
  "language_info": {
   "codemirror_mode": {
    "name": "ipython",
    "version": 3
   },
   "file_extension": ".py",
   "mimetype": "text/x-python",
   "name": "python",
   "nbconvert_exporter": "python",
   "pygments_lexer": "ipython3",
   "version": "3.8.2"
  }
 },
 "nbformat": 4,
 "nbformat_minor": 4
}
